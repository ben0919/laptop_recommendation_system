{
 "cells": [
  {
   "cell_type": "code",
   "execution_count": 1,
   "metadata": {},
   "outputs": [],
   "source": [
    "import numpy as np\n",
    "import pandas as pd\n",
    "import matplotlib.pyplot as plt"
   ]
  },
  {
   "cell_type": "markdown",
   "metadata": {},
   "source": [
    "## Data Input"
   ]
  },
  {
   "cell_type": "code",
   "execution_count": 2,
   "metadata": {},
   "outputs": [],
   "source": [
    "mydata = pd.read_csv('data.csv')\n",
    "mydf = pd.DataFrame(data = mydata)"
   ]
  },
  {
   "cell_type": "markdown",
   "metadata": {},
   "source": [
    "## Data Preprocessing\n",
    "(1) Dropping data"
   ]
  },
  {
   "cell_type": "code",
   "execution_count": 3,
   "metadata": {},
   "outputs": [
    {
     "data": {
      "text/html": [
       "<div>\n",
       "<style scoped>\n",
       "    .dataframe tbody tr th:only-of-type {\n",
       "        vertical-align: middle;\n",
       "    }\n",
       "\n",
       "    .dataframe tbody tr th {\n",
       "        vertical-align: top;\n",
       "    }\n",
       "\n",
       "    .dataframe thead th {\n",
       "        text-align: right;\n",
       "    }\n",
       "</style>\n",
       "<table border=\"1\" class=\"dataframe\">\n",
       "  <thead>\n",
       "    <tr style=\"text-align: right;\">\n",
       "      <th></th>\n",
       "      <th>gender</th>\n",
       "      <th>department</th>\n",
       "      <th>grade</th>\n",
       "      <th>money</th>\n",
       "      <th>system</th>\n",
       "      <th>time</th>\n",
       "      <th>communication</th>\n",
       "      <th>social</th>\n",
       "      <th>word_processing</th>\n",
       "      <th>entertainment</th>\n",
       "      <th>reading</th>\n",
       "      <th>coding</th>\n",
       "      <th>creation</th>\n",
       "      <th>apple</th>\n",
       "      <th>satisfy</th>\n",
       "    </tr>\n",
       "  </thead>\n",
       "  <tbody>\n",
       "    <tr>\n",
       "      <th>0</th>\n",
       "      <td>男</td>\n",
       "      <td>電資學院及其相關科系</td>\n",
       "      <td>大三</td>\n",
       "      <td>8001~11999</td>\n",
       "      <td>MacOS</td>\n",
       "      <td>60 小時以上</td>\n",
       "      <td>5</td>\n",
       "      <td>4</td>\n",
       "      <td>3</td>\n",
       "      <td>1</td>\n",
       "      <td>6</td>\n",
       "      <td>2</td>\n",
       "      <td>7</td>\n",
       "      <td>是</td>\n",
       "      <td>同意</td>\n",
       "    </tr>\n",
       "    <tr>\n",
       "      <th>1</th>\n",
       "      <td>男</td>\n",
       "      <td>商/管理學院及其相關科系</td>\n",
       "      <td>大四或以上</td>\n",
       "      <td>8001~11999</td>\n",
       "      <td>MacOS</td>\n",
       "      <td>0~30 小時</td>\n",
       "      <td>7</td>\n",
       "      <td>5</td>\n",
       "      <td>2</td>\n",
       "      <td>1</td>\n",
       "      <td>4</td>\n",
       "      <td>3</td>\n",
       "      <td>6</td>\n",
       "      <td>是</td>\n",
       "      <td>非常同意</td>\n",
       "    </tr>\n",
       "    <tr>\n",
       "      <th>2</th>\n",
       "      <td>男</td>\n",
       "      <td>電資學院及其相關科系</td>\n",
       "      <td>大二</td>\n",
       "      <td>8001~11999</td>\n",
       "      <td>MacOS</td>\n",
       "      <td>31~60 小時</td>\n",
       "      <td>5</td>\n",
       "      <td>6</td>\n",
       "      <td>2</td>\n",
       "      <td>3</td>\n",
       "      <td>4</td>\n",
       "      <td>1</td>\n",
       "      <td>7</td>\n",
       "      <td>是</td>\n",
       "      <td>同意</td>\n",
       "    </tr>\n",
       "    <tr>\n",
       "      <th>3</th>\n",
       "      <td>男</td>\n",
       "      <td>電資學院及其相關科系</td>\n",
       "      <td>大四或以上</td>\n",
       "      <td>8001~11999</td>\n",
       "      <td>MacOS</td>\n",
       "      <td>31~60 小時</td>\n",
       "      <td>2</td>\n",
       "      <td>6</td>\n",
       "      <td>3</td>\n",
       "      <td>4</td>\n",
       "      <td>5</td>\n",
       "      <td>1</td>\n",
       "      <td>7</td>\n",
       "      <td>是</td>\n",
       "      <td>同意</td>\n",
       "    </tr>\n",
       "    <tr>\n",
       "      <th>4</th>\n",
       "      <td>女</td>\n",
       "      <td>電資學院及其相關科系</td>\n",
       "      <td>大三</td>\n",
       "      <td>8001~11999</td>\n",
       "      <td>MacOS</td>\n",
       "      <td>31~60 小時</td>\n",
       "      <td>5</td>\n",
       "      <td>6</td>\n",
       "      <td>4</td>\n",
       "      <td>1</td>\n",
       "      <td>3</td>\n",
       "      <td>2</td>\n",
       "      <td>7</td>\n",
       "      <td>是</td>\n",
       "      <td>同意</td>\n",
       "    </tr>\n",
       "    <tr>\n",
       "      <th>...</th>\n",
       "      <td>...</td>\n",
       "      <td>...</td>\n",
       "      <td>...</td>\n",
       "      <td>...</td>\n",
       "      <td>...</td>\n",
       "      <td>...</td>\n",
       "      <td>...</td>\n",
       "      <td>...</td>\n",
       "      <td>...</td>\n",
       "      <td>...</td>\n",
       "      <td>...</td>\n",
       "      <td>...</td>\n",
       "      <td>...</td>\n",
       "      <td>...</td>\n",
       "      <td>...</td>\n",
       "    </tr>\n",
       "    <tr>\n",
       "      <th>215</th>\n",
       "      <td>女</td>\n",
       "      <td>商/管理學院及其相關科系</td>\n",
       "      <td>大四或以上</td>\n",
       "      <td>8001~11999</td>\n",
       "      <td>Windows</td>\n",
       "      <td>0~30 小時</td>\n",
       "      <td>5</td>\n",
       "      <td>6</td>\n",
       "      <td>1</td>\n",
       "      <td>4</td>\n",
       "      <td>2</td>\n",
       "      <td>3</td>\n",
       "      <td>7</td>\n",
       "      <td>是</td>\n",
       "      <td>同意</td>\n",
       "    </tr>\n",
       "    <tr>\n",
       "      <th>216</th>\n",
       "      <td>女</td>\n",
       "      <td>商/管理學院及其相關科系</td>\n",
       "      <td>大二</td>\n",
       "      <td>8000以下</td>\n",
       "      <td>Windows</td>\n",
       "      <td>31~60 小時</td>\n",
       "      <td>2</td>\n",
       "      <td>1</td>\n",
       "      <td>3</td>\n",
       "      <td>5</td>\n",
       "      <td>4</td>\n",
       "      <td>6</td>\n",
       "      <td>7</td>\n",
       "      <td>否</td>\n",
       "      <td>同意</td>\n",
       "    </tr>\n",
       "    <tr>\n",
       "      <th>217</th>\n",
       "      <td>女</td>\n",
       "      <td>教育學院</td>\n",
       "      <td>大三</td>\n",
       "      <td>8000以下</td>\n",
       "      <td>Windows</td>\n",
       "      <td>31~60 小時</td>\n",
       "      <td>2</td>\n",
       "      <td>3</td>\n",
       "      <td>4</td>\n",
       "      <td>1</td>\n",
       "      <td>5</td>\n",
       "      <td>7</td>\n",
       "      <td>6</td>\n",
       "      <td>否</td>\n",
       "      <td>同意</td>\n",
       "    </tr>\n",
       "    <tr>\n",
       "      <th>218</th>\n",
       "      <td>男</td>\n",
       "      <td>醫學院及相關科系</td>\n",
       "      <td>大一</td>\n",
       "      <td>8001~11999</td>\n",
       "      <td>Windows</td>\n",
       "      <td>0~30 小時</td>\n",
       "      <td>2</td>\n",
       "      <td>1</td>\n",
       "      <td>3</td>\n",
       "      <td>5</td>\n",
       "      <td>4</td>\n",
       "      <td>6</td>\n",
       "      <td>7</td>\n",
       "      <td>是</td>\n",
       "      <td>非常同意</td>\n",
       "    </tr>\n",
       "    <tr>\n",
       "      <th>219</th>\n",
       "      <td>男</td>\n",
       "      <td>人文社會學院及其相關科系</td>\n",
       "      <td>大四或以上</td>\n",
       "      <td>8001~11999</td>\n",
       "      <td>Windows</td>\n",
       "      <td>60 小時以上</td>\n",
       "      <td>4</td>\n",
       "      <td>5</td>\n",
       "      <td>2</td>\n",
       "      <td>3</td>\n",
       "      <td>1</td>\n",
       "      <td>7</td>\n",
       "      <td>6</td>\n",
       "      <td>是</td>\n",
       "      <td>同意</td>\n",
       "    </tr>\n",
       "  </tbody>\n",
       "</table>\n",
       "<p>220 rows × 15 columns</p>\n",
       "</div>"
      ],
      "text/plain": [
       "    gender    department  grade       money   system      time  communication  \\\n",
       "0        男    電資學院及其相關科系     大三  8001~11999    MacOS   60 小時以上              5   \n",
       "1        男  商/管理學院及其相關科系  大四或以上  8001~11999    MacOS   0~30 小時              7   \n",
       "2        男    電資學院及其相關科系     大二  8001~11999    MacOS  31~60 小時              5   \n",
       "3        男    電資學院及其相關科系  大四或以上  8001~11999    MacOS  31~60 小時              2   \n",
       "4        女    電資學院及其相關科系     大三  8001~11999    MacOS  31~60 小時              5   \n",
       "..     ...           ...    ...         ...      ...       ...            ...   \n",
       "215      女  商/管理學院及其相關科系  大四或以上  8001~11999  Windows   0~30 小時              5   \n",
       "216      女  商/管理學院及其相關科系     大二      8000以下  Windows  31~60 小時              2   \n",
       "217      女          教育學院     大三      8000以下  Windows  31~60 小時              2   \n",
       "218      男      醫學院及相關科系     大一  8001~11999  Windows   0~30 小時              2   \n",
       "219      男  人文社會學院及其相關科系  大四或以上  8001~11999  Windows   60 小時以上              4   \n",
       "\n",
       "     social  word_processing  entertainment  reading  coding  creation apple  \\\n",
       "0         4                3              1        6       2         7     是   \n",
       "1         5                2              1        4       3         6     是   \n",
       "2         6                2              3        4       1         7     是   \n",
       "3         6                3              4        5       1         7     是   \n",
       "4         6                4              1        3       2         7     是   \n",
       "..      ...              ...            ...      ...     ...       ...   ...   \n",
       "215       6                1              4        2       3         7     是   \n",
       "216       1                3              5        4       6         7     否   \n",
       "217       3                4              1        5       7         6     否   \n",
       "218       1                3              5        4       6         7     是   \n",
       "219       5                2              3        1       7         6     是   \n",
       "\n",
       "    satisfy  \n",
       "0        同意  \n",
       "1      非常同意  \n",
       "2        同意  \n",
       "3        同意  \n",
       "4        同意  \n",
       "..      ...  \n",
       "215      同意  \n",
       "216      同意  \n",
       "217      同意  \n",
       "218    非常同意  \n",
       "219      同意  \n",
       "\n",
       "[220 rows x 15 columns]"
      ]
     },
     "execution_count": 3,
     "metadata": {},
     "output_type": "execute_result"
    }
   ],
   "source": [
    "mydf = mydf[(mydf['system'] == 'MacOS') | (mydf['system'] =='Windows')] \n",
    "mydf = mydf.reset_index()\n",
    "mydf = mydf.drop(['index'],axis=1)\n",
    "mydf"
   ]
  },
  {
   "cell_type": "markdown",
   "metadata": {},
   "source": [
    "(2) Transforming data format"
   ]
  },
  {
   "cell_type": "code",
   "execution_count": 4,
   "metadata": {},
   "outputs": [
    {
     "data": {
      "text/html": [
       "<div>\n",
       "<style scoped>\n",
       "    .dataframe tbody tr th:only-of-type {\n",
       "        vertical-align: middle;\n",
       "    }\n",
       "\n",
       "    .dataframe tbody tr th {\n",
       "        vertical-align: top;\n",
       "    }\n",
       "\n",
       "    .dataframe thead th {\n",
       "        text-align: right;\n",
       "    }\n",
       "</style>\n",
       "<table border=\"1\" class=\"dataframe\">\n",
       "  <thead>\n",
       "    <tr style=\"text-align: right;\">\n",
       "      <th></th>\n",
       "      <th>gender</th>\n",
       "      <th>grade</th>\n",
       "      <th>money</th>\n",
       "      <th>system</th>\n",
       "      <th>time</th>\n",
       "      <th>communication</th>\n",
       "      <th>social</th>\n",
       "      <th>word_processing</th>\n",
       "      <th>entertainment</th>\n",
       "      <th>reading</th>\n",
       "      <th>coding</th>\n",
       "      <th>creation</th>\n",
       "      <th>apple</th>\n",
       "      <th>satisfy</th>\n",
       "      <th>department</th>\n",
       "    </tr>\n",
       "  </thead>\n",
       "  <tbody>\n",
       "    <tr>\n",
       "      <th>0</th>\n",
       "      <td>male</td>\n",
       "      <td>3</td>\n",
       "      <td>medium</td>\n",
       "      <td>MacOS</td>\n",
       "      <td>high</td>\n",
       "      <td>0</td>\n",
       "      <td>0</td>\n",
       "      <td>1</td>\n",
       "      <td>1</td>\n",
       "      <td>0</td>\n",
       "      <td>1</td>\n",
       "      <td>0</td>\n",
       "      <td>1</td>\n",
       "      <td>4</td>\n",
       "      <td>eecs</td>\n",
       "    </tr>\n",
       "    <tr>\n",
       "      <th>1</th>\n",
       "      <td>male</td>\n",
       "      <td>4</td>\n",
       "      <td>medium</td>\n",
       "      <td>MacOS</td>\n",
       "      <td>low</td>\n",
       "      <td>0</td>\n",
       "      <td>0</td>\n",
       "      <td>1</td>\n",
       "      <td>1</td>\n",
       "      <td>0</td>\n",
       "      <td>1</td>\n",
       "      <td>0</td>\n",
       "      <td>1</td>\n",
       "      <td>5</td>\n",
       "      <td>orthers</td>\n",
       "    </tr>\n",
       "    <tr>\n",
       "      <th>2</th>\n",
       "      <td>male</td>\n",
       "      <td>2</td>\n",
       "      <td>medium</td>\n",
       "      <td>MacOS</td>\n",
       "      <td>medium</td>\n",
       "      <td>0</td>\n",
       "      <td>0</td>\n",
       "      <td>1</td>\n",
       "      <td>1</td>\n",
       "      <td>0</td>\n",
       "      <td>1</td>\n",
       "      <td>0</td>\n",
       "      <td>1</td>\n",
       "      <td>4</td>\n",
       "      <td>eecs</td>\n",
       "    </tr>\n",
       "    <tr>\n",
       "      <th>3</th>\n",
       "      <td>male</td>\n",
       "      <td>4</td>\n",
       "      <td>medium</td>\n",
       "      <td>MacOS</td>\n",
       "      <td>medium</td>\n",
       "      <td>1</td>\n",
       "      <td>0</td>\n",
       "      <td>1</td>\n",
       "      <td>0</td>\n",
       "      <td>0</td>\n",
       "      <td>1</td>\n",
       "      <td>0</td>\n",
       "      <td>1</td>\n",
       "      <td>4</td>\n",
       "      <td>eecs</td>\n",
       "    </tr>\n",
       "    <tr>\n",
       "      <th>4</th>\n",
       "      <td>female</td>\n",
       "      <td>3</td>\n",
       "      <td>medium</td>\n",
       "      <td>MacOS</td>\n",
       "      <td>medium</td>\n",
       "      <td>0</td>\n",
       "      <td>0</td>\n",
       "      <td>0</td>\n",
       "      <td>1</td>\n",
       "      <td>1</td>\n",
       "      <td>1</td>\n",
       "      <td>0</td>\n",
       "      <td>1</td>\n",
       "      <td>4</td>\n",
       "      <td>eecs</td>\n",
       "    </tr>\n",
       "    <tr>\n",
       "      <th>...</th>\n",
       "      <td>...</td>\n",
       "      <td>...</td>\n",
       "      <td>...</td>\n",
       "      <td>...</td>\n",
       "      <td>...</td>\n",
       "      <td>...</td>\n",
       "      <td>...</td>\n",
       "      <td>...</td>\n",
       "      <td>...</td>\n",
       "      <td>...</td>\n",
       "      <td>...</td>\n",
       "      <td>...</td>\n",
       "      <td>...</td>\n",
       "      <td>...</td>\n",
       "      <td>...</td>\n",
       "    </tr>\n",
       "    <tr>\n",
       "      <th>215</th>\n",
       "      <td>female</td>\n",
       "      <td>4</td>\n",
       "      <td>medium</td>\n",
       "      <td>Windows</td>\n",
       "      <td>low</td>\n",
       "      <td>0</td>\n",
       "      <td>0</td>\n",
       "      <td>1</td>\n",
       "      <td>0</td>\n",
       "      <td>1</td>\n",
       "      <td>1</td>\n",
       "      <td>0</td>\n",
       "      <td>1</td>\n",
       "      <td>4</td>\n",
       "      <td>orthers</td>\n",
       "    </tr>\n",
       "    <tr>\n",
       "      <th>216</th>\n",
       "      <td>female</td>\n",
       "      <td>2</td>\n",
       "      <td>low</td>\n",
       "      <td>Windows</td>\n",
       "      <td>medium</td>\n",
       "      <td>1</td>\n",
       "      <td>1</td>\n",
       "      <td>1</td>\n",
       "      <td>0</td>\n",
       "      <td>0</td>\n",
       "      <td>0</td>\n",
       "      <td>0</td>\n",
       "      <td>0</td>\n",
       "      <td>4</td>\n",
       "      <td>orthers</td>\n",
       "    </tr>\n",
       "    <tr>\n",
       "      <th>217</th>\n",
       "      <td>female</td>\n",
       "      <td>3</td>\n",
       "      <td>low</td>\n",
       "      <td>Windows</td>\n",
       "      <td>medium</td>\n",
       "      <td>1</td>\n",
       "      <td>1</td>\n",
       "      <td>0</td>\n",
       "      <td>1</td>\n",
       "      <td>0</td>\n",
       "      <td>0</td>\n",
       "      <td>0</td>\n",
       "      <td>0</td>\n",
       "      <td>4</td>\n",
       "      <td>orthers</td>\n",
       "    </tr>\n",
       "    <tr>\n",
       "      <th>218</th>\n",
       "      <td>male</td>\n",
       "      <td>1</td>\n",
       "      <td>medium</td>\n",
       "      <td>Windows</td>\n",
       "      <td>low</td>\n",
       "      <td>1</td>\n",
       "      <td>1</td>\n",
       "      <td>1</td>\n",
       "      <td>0</td>\n",
       "      <td>0</td>\n",
       "      <td>0</td>\n",
       "      <td>0</td>\n",
       "      <td>1</td>\n",
       "      <td>5</td>\n",
       "      <td>orthers</td>\n",
       "    </tr>\n",
       "    <tr>\n",
       "      <th>219</th>\n",
       "      <td>male</td>\n",
       "      <td>4</td>\n",
       "      <td>medium</td>\n",
       "      <td>Windows</td>\n",
       "      <td>high</td>\n",
       "      <td>0</td>\n",
       "      <td>0</td>\n",
       "      <td>1</td>\n",
       "      <td>1</td>\n",
       "      <td>1</td>\n",
       "      <td>0</td>\n",
       "      <td>0</td>\n",
       "      <td>1</td>\n",
       "      <td>4</td>\n",
       "      <td>orthers</td>\n",
       "    </tr>\n",
       "  </tbody>\n",
       "</table>\n",
       "<p>220 rows × 15 columns</p>\n",
       "</div>"
      ],
      "text/plain": [
       "     gender grade   money   system    time  communication  social  \\\n",
       "0      male     3  medium    MacOS    high              0       0   \n",
       "1      male     4  medium    MacOS     low              0       0   \n",
       "2      male     2  medium    MacOS  medium              0       0   \n",
       "3      male     4  medium    MacOS  medium              1       0   \n",
       "4    female     3  medium    MacOS  medium              0       0   \n",
       "..      ...   ...     ...      ...     ...            ...     ...   \n",
       "215  female     4  medium  Windows     low              0       0   \n",
       "216  female     2     low  Windows  medium              1       1   \n",
       "217  female     3     low  Windows  medium              1       1   \n",
       "218    male     1  medium  Windows     low              1       1   \n",
       "219    male     4  medium  Windows    high              0       0   \n",
       "\n",
       "     word_processing  entertainment  reading  coding  creation apple satisfy  \\\n",
       "0                  1              1        0       1         0     1       4   \n",
       "1                  1              1        0       1         0     1       5   \n",
       "2                  1              1        0       1         0     1       4   \n",
       "3                  1              0        0       1         0     1       4   \n",
       "4                  0              1        1       1         0     1       4   \n",
       "..               ...            ...      ...     ...       ...   ...     ...   \n",
       "215                1              0        1       1         0     1       4   \n",
       "216                1              0        0       0         0     0       4   \n",
       "217                0              1        0       0         0     0       4   \n",
       "218                1              0        0       0         0     1       5   \n",
       "219                1              1        1       0         0     1       4   \n",
       "\n",
       "    department  \n",
       "0         eecs  \n",
       "1      orthers  \n",
       "2         eecs  \n",
       "3         eecs  \n",
       "4         eecs  \n",
       "..         ...  \n",
       "215    orthers  \n",
       "216    orthers  \n",
       "217    orthers  \n",
       "218    orthers  \n",
       "219    orthers  \n",
       "\n",
       "[220 rows x 15 columns]"
      ]
     },
     "execution_count": 4,
     "metadata": {},
     "output_type": "execute_result"
    }
   ],
   "source": [
    "for i in range(len(mydf)):\n",
    "    ## money\n",
    "    if mydf.loc[i,'money'] == '8000以下':\n",
    "        mydf.loc[i,'money'] = 'low'\n",
    "    elif mydf.loc[i,'money'] == '8001~11999':\n",
    "        mydf.loc[i,'money'] = 'medium'\n",
    "    else:\n",
    "        mydf.loc[i,'money'] = 'high'\n",
    "    ## time\n",
    "    if mydf.loc[i,'time'] == '0~30 小時':\n",
    "        mydf.loc[i,'time'] = 'low'\n",
    "    elif mydf.loc[i,'time'] == '31~60 小時':\n",
    "        mydf.loc[i,'time'] = 'medium'\n",
    "    else:\n",
    "        mydf.loc[i,'time'] = 'high'\n",
    "    ## satisfy\n",
    "    if mydf.loc[i,'apple'] == '是':\n",
    "        mydf.loc[i,'apple'] = 1\n",
    "    else:\n",
    "        mydf.loc[i,'apple'] = 0\n",
    "    if mydf.loc[i,'satisfy'] == '非常同意':\n",
    "        mydf.loc[i, 'satisfy'] = '5'\n",
    "    elif mydf.loc[i,'satisfy'] == '同意':\n",
    "        mydf.loc[i, 'satisfy'] = '4'\n",
    "    elif mydf.loc[i,'satisfy'] == '普通':\n",
    "        mydf.loc[i, 'satisfy'] = '3'\n",
    "    elif mydf.loc[i,'satisfy'] == '不同意':\n",
    "        mydf.loc[i,'satisfy'] = '2'\n",
    "    else:\n",
    "        mydf.loc[i,'satisfy'] = '1'\n",
    "    ## usage\n",
    "    if mydf.loc[i,'communication'] in  [1, 2, 3]:\n",
    "        mydf.loc[i,'communication'] = 1\n",
    "    else:\n",
    "        mydf.loc[i,'communication'] = 0\n",
    "    if mydf.loc[i,'social'] in [1, 2, 3]:\n",
    "        mydf.loc[i,'social'] = 1\n",
    "    else:\n",
    "        mydf.loc[i,'social'] = 0\n",
    "    if mydf.loc[i,'word_processing'] in [1, 2, 3]:\n",
    "        mydf.loc[i,'word_processing'] = 1\n",
    "    else:\n",
    "        mydf.loc[i,'word_processing'] = 0\n",
    "    if mydf.loc[i,'entertainment'] in [1, 2, 3]:\n",
    "        mydf.loc[i,'entertainment'] = 1\n",
    "    else:\n",
    "        mydf.loc[i,'entertainment'] = 0\n",
    "    if mydf.loc[i,'reading'] in [1, 2, 3]:\n",
    "        mydf.loc[i,'reading'] = 1\n",
    "    else:\n",
    "        mydf.loc[i,'reading'] = 0\n",
    "    if mydf.loc[i,'coding'] in [1, 2, 3]:\n",
    "        mydf.loc[i,'coding'] = 1\n",
    "    else:\n",
    "        mydf.loc[i,'coding'] = 0\n",
    "    if mydf.loc[i,'creation'] in [1, 2, 3]:\n",
    "        mydf.loc[i,'creation'] = 1\n",
    "    else:\n",
    "        mydf.loc[i,'creation'] = 0\n",
    "    ## gender\n",
    "    if mydf.loc[i,'gender'] == '男':\n",
    "        mydf.loc[i,'gender'] = 'male'\n",
    "    else:\n",
    "        mydf.loc[i,'gender'] = 'female'\n",
    "    ## grade\n",
    "    if mydf.loc[i,'grade'] == '大一':\n",
    "        mydf.loc[i,'grade'] = 1\n",
    "    elif mydf.loc[i,'grade'] == '大二':\n",
    "        mydf.loc[i,'grade'] = 2\n",
    "    elif mydf.loc[i,'grade'] == '大三':\n",
    "        mydf.loc[i,'grade'] = 3\n",
    "    else:\n",
    "        mydf.loc[i, 'grade'] = 4\n",
    "mydf['temp'] = 'na'\n",
    "mydf.loc[(mydf.department == '電資學院及其相關科系'), 'temp'] = 'eecs'\n",
    "mydf.loc[(mydf.department == '工學院及其相關科系') | (mydf.department == '理學院及其相關科系'), 'temp'] = 's&t'\n",
    "mydf.loc[(mydf.department != '工學院及其相關科系') & (mydf.department != '理學院及其相關科系') & (mydf.department != '電資學院及其相關科系'), 'temp'] = 'orthers'\n",
    "mydf = mydf.drop(columns = 'department')\n",
    "mydf = mydf.rename(columns = {'temp': 'department'})\n",
    "mydf"
   ]
  },
  {
   "cell_type": "markdown",
   "metadata": {},
   "source": [
    "(2) Data visulization for choosing useful features"
   ]
  },
  {
   "cell_type": "code",
   "execution_count": 5,
   "metadata": {},
   "outputs": [
    {
     "data": {
      "image/png": "[encoded data removed]",
      "text/plain": [
       "<Figure size 432x216 with 2 Axes>"
      ]
     },
     "metadata": {
      "needs_background": "light"
     },
     "output_type": "display_data"
    },
    {
     "data": {
      "image/png": "[encoded data removed]",
      "text/plain": [
       "<Figure size 864x216 with 4 Axes>"
      ]
     },
     "metadata": {
      "needs_background": "light"
     },
     "output_type": "display_data"
    },
    {
     "data": {
      "image/png": "[encoded data removed]",
      "text/plain": [
       "<Figure size 648x216 with 3 Axes>"
      ]
     },
     "metadata": {
      "needs_background": "light"
     },
     "output_type": "display_data"
    },
    {
     "data": {
      "image/png": "[encoded data removed]",
      "text/plain": [
       "<Figure size 432x216 with 2 Axes>"
      ]
     },
     "metadata": {
      "needs_background": "light"
     },
     "output_type": "display_data"
    },
    {
     "data": {
      "image/png": "[encoded data removed]",
      "text/plain": [
       "<Figure size 648x216 with 3 Axes>"
      ]
     },
     "metadata": {
      "needs_background": "light"
     },
     "output_type": "display_data"
    },
    {
     "data": {
      "image/png": "[encoded data removed]",
      "text/plain": [
       "<Figure size 432x216 with 2 Axes>"
      ]
     },
     "metadata": {
      "needs_background": "light"
     },
     "output_type": "display_data"
    },
    {
     "data": {
      "image/png": "[encoded data removed]",
      "text/plain": [
       "<Figure size 432x216 with 2 Axes>"
      ]
     },
     "metadata": {
      "needs_background": "light"
     },
     "output_type": "display_data"
    },
    {
     "data": {
      "image/png": "[encoded data removed]",
      "text/plain": [
       "<Figure size 432x216 with 2 Axes>"
      ]
     },
     "metadata": {
      "needs_background": "light"
     },
     "output_type": "display_data"
    },
    {
     "data": {
      "image/png": "[encoded data removed]",
      "text/plain": [
       "<Figure size 432x216 with 2 Axes>"
      ]
     },
     "metadata": {
      "needs_background": "light"
     },
     "output_type": "display_data"
    },
    {
     "data": {
      "image/png": "[encoded data removed]",
      "text/plain": [
       "<Figure size 432x216 with 2 Axes>"
      ]
     },
     "metadata": {
      "needs_background": "light"
     },
     "output_type": "display_data"
    },
    {
     "data": {
      "image/png": "[encoded data removed]",
      "text/plain": [
       "<Figure size 432x216 with 2 Axes>"
      ]
     },
     "metadata": {
      "needs_background": "light"
     },
     "output_type": "display_data"
    },
    {
     "data": {
      "image/png": "[encoded data removed]",
      "text/plain": [
       "<Figure size 432x216 with 2 Axes>"
      ]
     },
     "metadata": {
      "needs_background": "light"
     },
     "output_type": "display_data"
    },
    {
     "data": {
      "image/png": "[encoded data removed]",
      "text/plain": [
       "<Figure size 432x216 with 2 Axes>"
      ]
     },
     "metadata": {
      "needs_background": "light"
     },
     "output_type": "display_data"
    },
    {
     "data": {
      "image/png": "[encoded data removed]",
      "text/plain": [
       "<Figure size 1080x216 with 5 Axes>"
      ]
     },
     "metadata": {
      "needs_background": "light"
     },
     "output_type": "display_data"
    },
    {
     "data": {
      "image/png": "[encoded data removed]",
      "text/plain": [
       "<Figure size 648x216 with 3 Axes>"
      ]
     },
     "metadata": {
      "needs_background": "light"
     },
     "output_type": "display_data"
    }
   ],
   "source": [
    "import seaborn as sns\n",
    "for cols in mydf.columns:\n",
    "    sns.catplot(x=\"system\", data=mydf, col=cols,kind=\"count\",height=3)"
   ]
  },
  {
   "cell_type": "markdown",
   "metadata": {},
   "source": [
    "(4)droping useless features"
   ]
  },
  {
   "cell_type": "code",
   "execution_count": 6,
   "metadata": {},
   "outputs": [
    {
     "data": {
      "text/html": [
       "<div>\n",
       "<style scoped>\n",
       "    .dataframe tbody tr th:only-of-type {\n",
       "        vertical-align: middle;\n",
       "    }\n",
       "\n",
       "    .dataframe tbody tr th {\n",
       "        vertical-align: top;\n",
       "    }\n",
       "\n",
       "    .dataframe thead th {\n",
       "        text-align: right;\n",
       "    }\n",
       "</style>\n",
       "<table border=\"1\" class=\"dataframe\">\n",
       "  <thead>\n",
       "    <tr style=\"text-align: right;\">\n",
       "      <th></th>\n",
       "      <th>money</th>\n",
       "      <th>system</th>\n",
       "      <th>communication</th>\n",
       "      <th>social</th>\n",
       "      <th>word_processing</th>\n",
       "      <th>entertainment</th>\n",
       "      <th>reading</th>\n",
       "      <th>coding</th>\n",
       "      <th>creation</th>\n",
       "      <th>apple</th>\n",
       "      <th>satisfy</th>\n",
       "      <th>department</th>\n",
       "    </tr>\n",
       "  </thead>\n",
       "  <tbody>\n",
       "    <tr>\n",
       "      <th>0</th>\n",
       "      <td>medium</td>\n",
       "      <td>MacOS</td>\n",
       "      <td>0</td>\n",
       "      <td>0</td>\n",
       "      <td>1</td>\n",
       "      <td>1</td>\n",
       "      <td>0</td>\n",
       "      <td>1</td>\n",
       "      <td>0</td>\n",
       "      <td>1</td>\n",
       "      <td>4</td>\n",
       "      <td>eecs</td>\n",
       "    </tr>\n",
       "    <tr>\n",
       "      <th>1</th>\n",
       "      <td>medium</td>\n",
       "      <td>MacOS</td>\n",
       "      <td>0</td>\n",
       "      <td>0</td>\n",
       "      <td>1</td>\n",
       "      <td>1</td>\n",
       "      <td>0</td>\n",
       "      <td>1</td>\n",
       "      <td>0</td>\n",
       "      <td>1</td>\n",
       "      <td>5</td>\n",
       "      <td>orthers</td>\n",
       "    </tr>\n",
       "    <tr>\n",
       "      <th>2</th>\n",
       "      <td>medium</td>\n",
       "      <td>MacOS</td>\n",
       "      <td>0</td>\n",
       "      <td>0</td>\n",
       "      <td>1</td>\n",
       "      <td>1</td>\n",
       "      <td>0</td>\n",
       "      <td>1</td>\n",
       "      <td>0</td>\n",
       "      <td>1</td>\n",
       "      <td>4</td>\n",
       "      <td>eecs</td>\n",
       "    </tr>\n",
       "    <tr>\n",
       "      <th>3</th>\n",
       "      <td>medium</td>\n",
       "      <td>MacOS</td>\n",
       "      <td>1</td>\n",
       "      <td>0</td>\n",
       "      <td>1</td>\n",
       "      <td>0</td>\n",
       "      <td>0</td>\n",
       "      <td>1</td>\n",
       "      <td>0</td>\n",
       "      <td>1</td>\n",
       "      <td>4</td>\n",
       "      <td>eecs</td>\n",
       "    </tr>\n",
       "    <tr>\n",
       "      <th>4</th>\n",
       "      <td>medium</td>\n",
       "      <td>MacOS</td>\n",
       "      <td>0</td>\n",
       "      <td>0</td>\n",
       "      <td>0</td>\n",
       "      <td>1</td>\n",
       "      <td>1</td>\n",
       "      <td>1</td>\n",
       "      <td>0</td>\n",
       "      <td>1</td>\n",
       "      <td>4</td>\n",
       "      <td>eecs</td>\n",
       "    </tr>\n",
       "    <tr>\n",
       "      <th>...</th>\n",
       "      <td>...</td>\n",
       "      <td>...</td>\n",
       "      <td>...</td>\n",
       "      <td>...</td>\n",
       "      <td>...</td>\n",
       "      <td>...</td>\n",
       "      <td>...</td>\n",
       "      <td>...</td>\n",
       "      <td>...</td>\n",
       "      <td>...</td>\n",
       "      <td>...</td>\n",
       "      <td>...</td>\n",
       "    </tr>\n",
       "    <tr>\n",
       "      <th>215</th>\n",
       "      <td>medium</td>\n",
       "      <td>Windows</td>\n",
       "      <td>0</td>\n",
       "      <td>0</td>\n",
       "      <td>1</td>\n",
       "      <td>0</td>\n",
       "      <td>1</td>\n",
       "      <td>1</td>\n",
       "      <td>0</td>\n",
       "      <td>1</td>\n",
       "      <td>4</td>\n",
       "      <td>orthers</td>\n",
       "    </tr>\n",
       "    <tr>\n",
       "      <th>216</th>\n",
       "      <td>low</td>\n",
       "      <td>Windows</td>\n",
       "      <td>1</td>\n",
       "      <td>1</td>\n",
       "      <td>1</td>\n",
       "      <td>0</td>\n",
       "      <td>0</td>\n",
       "      <td>0</td>\n",
       "      <td>0</td>\n",
       "      <td>0</td>\n",
       "      <td>4</td>\n",
       "      <td>orthers</td>\n",
       "    </tr>\n",
       "    <tr>\n",
       "      <th>217</th>\n",
       "      <td>low</td>\n",
       "      <td>Windows</td>\n",
       "      <td>1</td>\n",
       "      <td>1</td>\n",
       "      <td>0</td>\n",
       "      <td>1</td>\n",
       "      <td>0</td>\n",
       "      <td>0</td>\n",
       "      <td>0</td>\n",
       "      <td>0</td>\n",
       "      <td>4</td>\n",
       "      <td>orthers</td>\n",
       "    </tr>\n",
       "    <tr>\n",
       "      <th>218</th>\n",
       "      <td>medium</td>\n",
       "      <td>Windows</td>\n",
       "      <td>1</td>\n",
       "      <td>1</td>\n",
       "      <td>1</td>\n",
       "      <td>0</td>\n",
       "      <td>0</td>\n",
       "      <td>0</td>\n",
       "      <td>0</td>\n",
       "      <td>1</td>\n",
       "      <td>5</td>\n",
       "      <td>orthers</td>\n",
       "    </tr>\n",
       "    <tr>\n",
       "      <th>219</th>\n",
       "      <td>medium</td>\n",
       "      <td>Windows</td>\n",
       "      <td>0</td>\n",
       "      <td>0</td>\n",
       "      <td>1</td>\n",
       "      <td>1</td>\n",
       "      <td>1</td>\n",
       "      <td>0</td>\n",
       "      <td>0</td>\n",
       "      <td>1</td>\n",
       "      <td>4</td>\n",
       "      <td>orthers</td>\n",
       "    </tr>\n",
       "  </tbody>\n",
       "</table>\n",
       "<p>220 rows × 12 columns</p>\n",
       "</div>"
      ],
      "text/plain": [
       "      money   system  communication  social  word_processing  entertainment  \\\n",
       "0    medium    MacOS              0       0                1              1   \n",
       "1    medium    MacOS              0       0                1              1   \n",
       "2    medium    MacOS              0       0                1              1   \n",
       "3    medium    MacOS              1       0                1              0   \n",
       "4    medium    MacOS              0       0                0              1   \n",
       "..      ...      ...            ...     ...              ...            ...   \n",
       "215  medium  Windows              0       0                1              0   \n",
       "216     low  Windows              1       1                1              0   \n",
       "217     low  Windows              1       1                0              1   \n",
       "218  medium  Windows              1       1                1              0   \n",
       "219  medium  Windows              0       0                1              1   \n",
       "\n",
       "     reading  coding  creation apple satisfy department  \n",
       "0          0       1         0     1       4       eecs  \n",
       "1          0       1         0     1       5    orthers  \n",
       "2          0       1         0     1       4       eecs  \n",
       "3          0       1         0     1       4       eecs  \n",
       "4          1       1         0     1       4       eecs  \n",
       "..       ...     ...       ...   ...     ...        ...  \n",
       "215        1       1         0     1       4    orthers  \n",
       "216        0       0         0     0       4    orthers  \n",
       "217        0       0         0     0       4    orthers  \n",
       "218        0       0         0     1       5    orthers  \n",
       "219        1       0         0     1       4    orthers  \n",
       "\n",
       "[220 rows x 12 columns]"
      ]
     },
     "execution_count": 6,
     "metadata": {},
     "output_type": "execute_result"
    }
   ],
   "source": [
    "mydf = mydf.drop(['gender','grade','time'], axis=1)\n",
    "mydf"
   ]
  },
  {
   "cell_type": "markdown",
   "metadata": {},
   "source": [
    "(5) Shuffling"
   ]
  },
  {
   "cell_type": "code",
   "execution_count": 7,
   "metadata": {},
   "outputs": [],
   "source": [
    "from sklearn.utils import shuffle\n",
    "mydf = shuffle(mydf)"
   ]
  },
  {
   "cell_type": "markdown",
   "metadata": {},
   "source": [
    "(6) Adding weights to training data"
   ]
  },
  {
   "cell_type": "code",
   "execution_count": 8,
   "metadata": {
    "scrolled": true
   },
   "outputs": [],
   "source": [
    "weighted_mydf = pd.DataFrame(mydf[:150].copy(deep=True)).reset_index()\n",
    "weighted_mydf = weighted_mydf.drop(['index'], axis=1)\n",
    "nonweighted_mydf = pd.DataFrame(mydf[:150].copy(deep=True)).reset_index()\n",
    "nonweighted_mydf = nonweighted_mydf.drop(['index'], axis=1)\n",
    "mydf = pd.DataFrame(mydf[150:]).reset_index()\n",
    "mydf = mydf.drop(['index'], axis=1)\n",
    "weights = []\n",
    "for i in range(len(weighted_mydf)):\n",
    "    if weighted_mydf.loc[i,'satisfy'] == '5':\n",
    "        new_row = pd.Series(weighted_mydf.loc[i])\n",
    "        weighted_mydf = weighted_mydf.append(new_row)\n",
    "        weighted_mydf = weighted_mydf.append(new_row)\n",
    "        weights.append(3)\n",
    "    elif weighted_mydf.loc[i,'satisfy'] == '4':\n",
    "        new_row = pd.Series(weighted_mydf.loc[i])\n",
    "        weighted_mydf = weighted_mydf.append(new_row)\n",
    "        weights.append(2)\n",
    "    elif weighted_mydf.loc[i,'satisfy'] == '3':\n",
    "        weights.append(1)\n",
    "    elif weighted_mydf.loc[i,'satisfy'] == '2':\n",
    "        weights.append(0)\n",
    "        weighted_mydf = weighted_mydf.drop(i)\n",
    "    else:\n",
    "        weights.append(-1)\n",
    "        if weighted_mydf.loc[i, 'system'] == 'Windows':\n",
    "            weighted_mydf.loc[i, 'system'] = 'MacOS'\n",
    "        else:\n",
    "            weighted_mydf.loc[i, 'system'] = 'Windows'"
   ]
  },
  {
   "cell_type": "markdown",
   "metadata": {},
   "source": [
    "(5) Generating features(X) and target(y)"
   ]
  },
  {
   "cell_type": "code",
   "execution_count": 9,
   "metadata": {},
   "outputs": [],
   "source": [
    "weighted_X = weighted_mydf.drop(['satisfy', 'system'], axis=1)\n",
    "weighted_y = weighted_mydf['system']\n",
    "weighted_X = pd.get_dummies(weighted_X)\n",
    "nonweighted_X = nonweighted_mydf.drop(['satisfy', 'system'], axis=1)\n",
    "nonweighted_y = nonweighted_mydf['system']\n",
    "nonweighted_X = pd.get_dummies(nonweighted_X)\n",
    "X_test = mydf.drop(['satisfy', 'system'], axis=1)\n",
    "y_test = mydf['system']\n",
    "X_test = pd.get_dummies(X_test)"
   ]
  },
  {
   "cell_type": "markdown",
   "metadata": {},
   "source": [
    "## Results\n",
    "### Model Construction"
   ]
  },
  {
   "cell_type": "code",
   "execution_count": 10,
   "metadata": {},
   "outputs": [],
   "source": [
    "from sklearn.metrics import confusion_matrix\n",
    "from sklearn.metrics import classification_report\n",
    "from sklearn.metrics import accuracy_score\n",
    "from sklearn.metrics import recall_score\n",
    "from sklearn.metrics import precision_score\n",
    "\n",
    "from sklearn.ensemble import RandomForestClassifier\n",
    "from sklearn.naive_bayes import GaussianNB\n",
    "from sklearn.neighbors import KNeighborsClassifier\n",
    "from sklearn.linear_model import LogisticRegression\n",
    "from sklearn.svm import LinearSVC\n",
    "\n",
    "forest_100 = RandomForestClassifier(n_estimators = 100)\n",
    "GaussianNB = GaussianNB()\n",
    "Knn = KNeighborsClassifier(n_neighbors = 20)\n",
    "Logistic = LogisticRegression()\n",
    "svm = LinearSVC(C=1, tol=1e-5, max_iter=10000)"
   ]
  },
  {
   "cell_type": "markdown",
   "metadata": {},
   "source": [
    "### Random Forest"
   ]
  },
  {
   "cell_type": "code",
   "execution_count": 17,
   "metadata": {},
   "outputs": [
    {
     "name": "stdout",
     "output_type": "stream",
     "text": [
      "Confusion matrix:\n",
      "[[ 7 10]\n",
      " [13 40]]\n",
      "\n",
      "Accuracy: 0.6714\n",
      "              precision    recall  f1-score   support\n",
      "\n",
      "       MacOS       0.35      0.41      0.38        17\n",
      "     Windows       0.80      0.75      0.78        53\n",
      "\n",
      "    accuracy                           0.67        70\n",
      "   macro avg       0.57      0.58      0.58        70\n",
      "weighted avg       0.69      0.67      0.68        70\n",
      "\n",
      "Feature ranking:\n"
     ]
    },
    {
     "ename": "NameError",
     "evalue": "name 'X' is not defined",
     "output_type": "error",
     "traceback": [
      "\u001b[0;31m---------------------------------------------------------------------------\u001b[0m",
      "\u001b[0;31mNameError\u001b[0m                                 Traceback (most recent call last)",
      "\u001b[0;32m<ipython-input-17-86fb03be1062>\u001b[0m in \u001b[0;36m<module>\u001b[0;34m\u001b[0m\n\u001b[1;32m     15\u001b[0m \u001b[0mprint\u001b[0m\u001b[0;34m(\u001b[0m\u001b[0;34m\"Feature ranking:\"\u001b[0m\u001b[0;34m)\u001b[0m\u001b[0;34m\u001b[0m\u001b[0;34m\u001b[0m\u001b[0m\n\u001b[1;32m     16\u001b[0m \u001b[0;34m\u001b[0m\u001b[0m\n\u001b[0;32m---> 17\u001b[0;31m \u001b[0;32mfor\u001b[0m \u001b[0mf\u001b[0m \u001b[0;32min\u001b[0m \u001b[0mrange\u001b[0m\u001b[0;34m(\u001b[0m\u001b[0mX\u001b[0m\u001b[0;34m.\u001b[0m\u001b[0mshape\u001b[0m\u001b[0;34m[\u001b[0m\u001b[0;36m1\u001b[0m\u001b[0;34m]\u001b[0m\u001b[0;34m)\u001b[0m\u001b[0;34m:\u001b[0m\u001b[0;34m\u001b[0m\u001b[0;34m\u001b[0m\u001b[0m\n\u001b[0m\u001b[1;32m     18\u001b[0m     \u001b[0mprint\u001b[0m\u001b[0;34m(\u001b[0m\u001b[0;34m\"%d. feature %d (%f)\"\u001b[0m \u001b[0;34m%\u001b[0m \u001b[0;34m(\u001b[0m\u001b[0mf\u001b[0m \u001b[0;34m+\u001b[0m \u001b[0;36m1\u001b[0m\u001b[0;34m,\u001b[0m \u001b[0mindices\u001b[0m\u001b[0;34m[\u001b[0m\u001b[0mf\u001b[0m\u001b[0;34m]\u001b[0m\u001b[0;34m,\u001b[0m \u001b[0mimportances\u001b[0m\u001b[0;34m[\u001b[0m\u001b[0mindices\u001b[0m\u001b[0;34m[\u001b[0m\u001b[0mf\u001b[0m\u001b[0;34m]\u001b[0m\u001b[0;34m]\u001b[0m\u001b[0;34m)\u001b[0m\u001b[0;34m)\u001b[0m\u001b[0;34m\u001b[0m\u001b[0;34m\u001b[0m\u001b[0m\n",
      "\u001b[0;31mNameError\u001b[0m: name 'X' is not defined"
     ]
    },
    {
     "data": {
      "image/png": "[encoded data removed]",
      "text/plain": [
       "<Figure size 432x288 with 2 Axes>"
      ]
     },
     "metadata": {
      "needs_background": "light"
     },
     "output_type": "display_data"
    }
   ],
   "source": [
    "forest_100.fit(nonweighted_X, nonweighted_y, sample_weight=weights)\n",
    "y_pred = forest_100.predict(X_test)\n",
    "print('Confusion matrix:')\n",
    "cf_matrix = confusion_matrix(y_test, y_pred)\n",
    "print(cf_matrix)\n",
    "print('\\nAccuracy: %.4f' % accuracy_score(y_test, y_pred))\n",
    "print(classification_report(y_test, y_pred))\n",
    "sns.heatmap(cf_matrix, annot=True, cmap='Blues')\n",
    "importances = forest_100.feature_importances_\n",
    "std = np.std([tree.feature_importances_ for tree in forest_100.estimators_],\n",
    "             axis=0)\n",
    "indices = np.argsort(importances)[::-1]\n",
    "\n",
    "# Print the feature ranking\n",
    "print(\"Feature ranking:\")\n",
    "\n",
    "for f in range(nonweighted_X.shape[1]):\n",
    "    print(\"%d. feature %d (%f)\" % (f + 1, indices[f], importances[indices[f]]))"
   ]
  },
  {
   "cell_type": "markdown",
   "metadata": {},
   "source": [
    "### Naive-Bayes"
   ]
  },
  {
   "cell_type": "code",
   "execution_count": 12,
   "metadata": {},
   "outputs": [
    {
     "name": "stdout",
     "output_type": "stream",
     "text": [
      "Confusion matrix:\n",
      "[[13  4]\n",
      " [15 38]]\n",
      "\n",
      "Accuracy: 0.7286\n",
      "              precision    recall  f1-score   support\n",
      "\n",
      "       MacOS       0.46      0.76      0.58        17\n",
      "     Windows       0.90      0.72      0.80        53\n",
      "\n",
      "    accuracy                           0.73        70\n",
      "   macro avg       0.68      0.74      0.69        70\n",
      "weighted avg       0.80      0.73      0.75        70\n",
      "\n"
     ]
    },
    {
     "data": {
      "text/plain": [
       "<matplotlib.axes._subplots.AxesSubplot at 0x7ff28375c8e0>"
      ]
     },
     "execution_count": 12,
     "metadata": {},
     "output_type": "execute_result"
    },
    {
     "data": {
      "image/png": "[encoded data removed]",
      "text/plain": [
       "<Figure size 432x288 with 2 Axes>"
      ]
     },
     "metadata": {
      "needs_background": "light"
     },
     "output_type": "display_data"
    }
   ],
   "source": [
    "GaussianNB.fit(nonweighted_X, nonweighted_y, sample_weight=weights)\n",
    "y_pred = GaussianNB.predict(X_test)\n",
    "print('Confusion matrix:')\n",
    "cf_matrix = confusion_matrix(y_test, y_pred)\n",
    "print(cf_matrix)\n",
    "print('\\nAccuracy: %.4f' % accuracy_score(y_test, y_pred))\n",
    "print(classification_report(y_test, y_pred))\n",
    "sns.heatmap(cf_matrix, annot=True, cmap='Blues')\n"
   ]
  },
  {
   "cell_type": "markdown",
   "metadata": {},
   "source": [
    "### K Nearest Neighbors"
   ]
  },
  {
   "cell_type": "code",
   "execution_count": 13,
   "metadata": {},
   "outputs": [
    {
     "name": "stdout",
     "output_type": "stream",
     "text": [
      "Confusion matrix:\n",
      "[[ 6 11]\n",
      " [12 41]]\n",
      "\n",
      "Accuracy: 0.6714\n",
      "              precision    recall  f1-score   support\n",
      "\n",
      "       MacOS       0.33      0.35      0.34        17\n",
      "     Windows       0.79      0.77      0.78        53\n",
      "\n",
      "    accuracy                           0.67        70\n",
      "   macro avg       0.56      0.56      0.56        70\n",
      "weighted avg       0.68      0.67      0.67        70\n",
      "\n"
     ]
    },
    {
     "data": {
      "text/plain": [
       "<matplotlib.axes._subplots.AxesSubplot at 0x7ff283899b80>"
      ]
     },
     "execution_count": 13,
     "metadata": {},
     "output_type": "execute_result"
    },
    {
     "data": {
      "image/png": "[encoded data removed]",
      "text/plain": [
       "<Figure size 432x288 with 2 Axes>"
      ]
     },
     "metadata": {
      "needs_background": "light"
     },
     "output_type": "display_data"
    }
   ],
   "source": [
    "Knn.fit(weighted_X, weighted_y)\n",
    "y_pred = Knn.predict(X_test)\n",
    "print('Confusion matrix:')\n",
    "cf_matrix = confusion_matrix(y_test, y_pred)\n",
    "print(cf_matrix)\n",
    "print('\\nAccuracy: %.4f' % accuracy_score(y_test, y_pred))\n",
    "print(classification_report(y_test, y_pred))\n",
    "sns.heatmap(cf_matrix, annot=True, cmap='Blues')"
   ]
  },
  {
   "cell_type": "markdown",
   "metadata": {},
   "source": [
    "### Logistic Regression"
   ]
  },
  {
   "cell_type": "code",
   "execution_count": 14,
   "metadata": {},
   "outputs": [
    {
     "name": "stdout",
     "output_type": "stream",
     "text": [
      "Confusion matrix:\n",
      "[[ 6 11]\n",
      " [ 5 48]]\n",
      "\n",
      "Accuracy: 0.7714\n",
      "              precision    recall  f1-score   support\n",
      "\n",
      "       MacOS       0.55      0.35      0.43        17\n",
      "     Windows       0.81      0.91      0.86        53\n",
      "\n",
      "    accuracy                           0.77        70\n",
      "   macro avg       0.68      0.63      0.64        70\n",
      "weighted avg       0.75      0.77      0.75        70\n",
      "\n"
     ]
    },
    {
     "data": {
      "text/plain": [
       "<matplotlib.axes._subplots.AxesSubplot at 0x7ff2839c4520>"
      ]
     },
     "execution_count": 14,
     "metadata": {},
     "output_type": "execute_result"
    },
    {
     "data": {
      "image/png": "[encoded data removed]",
      "text/plain": [
       "<Figure size 432x288 with 2 Axes>"
      ]
     },
     "metadata": {
      "needs_background": "light"
     },
     "output_type": "display_data"
    }
   ],
   "source": [
    "Logistic.fit(nonweighted_X, nonweighted_y, sample_weight=weights)\n",
    "y_pred = Logistic.predict(X_test)\n",
    "print('Confusion matrix:')\n",
    "cf_matrix = confusion_matrix(y_test, y_pred)\n",
    "print(cf_matrix)\n",
    "print('\\nAccuracy: %.4f' % accuracy_score(y_test, y_pred))\n",
    "print(classification_report(y_test, y_pred))\n",
    "sns.heatmap(cf_matrix, annot=True, cmap='Blues')"
   ]
  },
  {
   "cell_type": "markdown",
   "metadata": {},
   "source": [
    "### Linear SVM\n"
   ]
  },
  {
   "cell_type": "code",
   "execution_count": 15,
   "metadata": {},
   "outputs": [
    {
     "name": "stdout",
     "output_type": "stream",
     "text": [
      "Confusion matrix:\n",
      "[[ 6 11]\n",
      " [ 5 48]]\n",
      "\n",
      "Accuracy: 0.7714\n",
      "              precision    recall  f1-score   support\n",
      "\n",
      "       MacOS       0.55      0.35      0.43        17\n",
      "     Windows       0.81      0.91      0.86        53\n",
      "\n",
      "    accuracy                           0.77        70\n",
      "   macro avg       0.68      0.63      0.64        70\n",
      "weighted avg       0.75      0.77      0.75        70\n",
      "\n"
     ]
    },
    {
     "data": {
      "text/plain": [
       "<matplotlib.axes._subplots.AxesSubplot at 0x7ff2838d29a0>"
      ]
     },
     "execution_count": 15,
     "metadata": {},
     "output_type": "execute_result"
    },
    {
     "data": {
      "image/png": "[encoded data removed]",
      "text/plain": [
       "<Figure size 432x288 with 2 Axes>"
      ]
     },
     "metadata": {
      "needs_background": "light"
     },
     "output_type": "display_data"
    }
   ],
   "source": [
    "svm.fit(nonweighted_X, nonweighted_y,sample_weight=weights)\n",
    "y_pred = svm.predict(X_test) \n",
    "print('Confusion matrix:')\n",
    "cf_matrix = confusion_matrix(y_test, y_pred)\n",
    "print(cf_matrix)\n",
    "print('\\nAccuracy: %.4f' % accuracy_score(y_test, y_pred))\n",
    "print(classification_report(y_test, y_pred))\n",
    "sns.heatmap(cf_matrix, annot=True, cmap='Blues')"
   ]
  }
 ],
 "metadata": {
  "kernelspec": {
   "display_name": "Python 3",
   "language": "python",
   "name": "python3"
  },
  "language_info": {
   "codemirror_mode": {
    "name": "ipython",
    "version": 3
   },
   "file_extension": ".py",
   "mimetype": "text/x-python",
   "name": "python",
   "nbconvert_exporter": "python",
   "pygments_lexer": "ipython3",
   "version": "3.8.3"
  }
 },
 "nbformat": 4,
 "nbformat_minor": 2
}
